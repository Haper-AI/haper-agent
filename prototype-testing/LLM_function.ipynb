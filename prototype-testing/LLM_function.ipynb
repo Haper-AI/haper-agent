{
 "cells": [
  {
   "cell_type": "code",
   "execution_count": null,
   "metadata": {},
   "outputs": [],
   "source": [
    "import os.path\n",
    "import pickle\n",
    "import base64\n",
    "import json\n",
    "import re\n",
    "from bs4 import BeautifulSoup\n",
    "\n",
    "from google.auth.transport.requests import Request\n",
    "from google_auth_oauthlib.flow import InstalledAppFlow\n",
    "from googleapiclient.discovery import build\n",
    "\n",
    "from openai import OpenAI\n",
    "\n",
    "client = OpenAI(\n",
    "  api_key=\"\"\n",
    ")"
   ]
  },
  {
   "cell_type": "code",
   "execution_count": 4,
   "metadata": {},
   "outputs": [],
   "source": [
    "SCOPES = ['https://www.googleapis.com/auth/gmail.readonly']\n",
    "\n",
    "def get_gmail_service():\n",
    "    creds = None\n",
    "    #use your own path\n",
    "    #use your own path\n",
    "    #use your own path\n",
    "    if os.path.exists('token.pickle'):\n",
    "        with open('token.pickle', 'rb') as token:\n",
    "            creds = pickle.load(token)\n",
    "\n",
    "    if not creds or not creds.valid:\n",
    "        if creds and creds.expired and creds.refresh_token:\n",
    "            creds.refresh(Request())\n",
    "        else:\n",
    "\n",
    "            flow = InstalledAppFlow.from_client_secrets_file(\n",
    "                'client_secret_349717392152-a31crp53p3kkaq5imdm5q41vdfka5e7n.apps.googleusercontent.com.json', SCOPES)\n",
    "            creds = flow.run_local_server(port=0)\n",
    "\n",
    "        with open('token.pickle', 'wb') as token:\n",
    "            pickle.dump(creds, token)\n",
    "    \n",
    "    service = build('gmail', 'v1', credentials=creds)\n",
    "    print(\"Gmail Service Created\")\n",
    "    return service"
   ]
  },
  {
   "cell_type": "code",
   "execution_count": 5,
   "metadata": {},
   "outputs": [
    {
     "name": "stdout",
     "output_type": "stream",
     "text": [
      "Please visit this URL to authorize this application: https://accounts.google.com/o/oauth2/auth?response_type=code&client_id=349717392152-a31crp53p3kkaq5imdm5q41vdfka5e7n.apps.googleusercontent.com&redirect_uri=http%3A%2F%2Flocalhost%3A57869%2F&scope=https%3A%2F%2Fwww.googleapis.com%2Fauth%2Fgmail.readonly&state=nDq7bG0gOnA7rL1masIg7lnKrIOj5T&access_type=offline\n",
      "Gmail Service Created\n"
     ]
    }
   ],
   "source": [
    "service = get_gmail_service()"
   ]
  },
  {
   "cell_type": "code",
   "execution_count": 6,
   "metadata": {},
   "outputs": [],
   "source": [
    "def list_messages(service, user_id='me', query='in:inbox'):\n",
    "    \"\"\"\n",
    "    List all messages in the user's inbox.\n",
    "    \"\"\"\n",
    "    messages = []\n",
    "    results = service.users().messages().list(userId=user_id, q=query).execute()\n",
    "    if 'messages' in results:\n",
    "        messages.extend(results['messages'])\n",
    "    #Next page\n",
    "    while 'nextPageToken' in results:\n",
    "        page_token = results['nextPageToken']\n",
    "        results = service.users().messages().list(userId=user_id, q=query, pageToken=page_token).execute()\n",
    "        if 'messages' in results:\n",
    "            messages.extend(results['messages'])\n",
    "    return messages\n",
    "\n",
    "def get_message(service, msg_id, user_id='me'):\n",
    "    \"\"\"\n",
    "    Get a message by id.\n",
    "    \"\"\"\n",
    "    message = service.users().messages().get(userId=user_id, id=msg_id, format='full').execute()\n",
    "    return message"
   ]
  },
  {
   "cell_type": "code",
   "execution_count": 7,
   "metadata": {},
   "outputs": [
    {
     "name": "stdout",
     "output_type": "stream",
     "text": [
      "{'id': '19548b2158ec5d93', 'threadId': '19548b2158ec5d93'}\n",
      "-----------------------------------\n",
      "{'id': '195474f449e1f1f9', 'threadId': '195474f449e1f1f9'}\n",
      "-----------------------------------\n",
      "{'id': '195432eff3686e1e', 'threadId': '195432eff3686e1e'}\n",
      "-----------------------------------\n"
     ]
    }
   ],
   "source": [
    "messages = list_messages(service, query='in:inbox')\n",
    "for msg_meta in messages[:3]:\n",
    "    print(msg_meta)\n",
    "    print('-----------------------------------')"
   ]
  },
  {
   "cell_type": "code",
   "execution_count": 11,
   "metadata": {},
   "outputs": [
    {
     "name": "stdout",
     "output_type": "stream",
     "text": [
      "['19548b2158ec5d93', '195474f449e1f1f9', '195432eff3686e1e', '19542cec33f29fa1', '195374d51dbed939', '1951a0cffb053199']\n"
     ]
    }
   ],
   "source": [
    "messages = list_messages(service, query='in:inbox')\n",
    "unread_ids = []\n",
    "for msg_meta in messages[:10]:\n",
    "    msg = get_message(service, msg_meta['id'])\n",
    "    #print(msg)\n",
    "    #print('-----------------------------------')\n",
    "    \n",
    "    if 'UNREAD' in msg['labelIds']:\n",
    "        unread_ids.append(msg['id'])\n",
    "    \n",
    "print(unread_ids)"
   ]
  },
  {
   "cell_type": "code",
   "execution_count": 12,
   "metadata": {},
   "outputs": [
    {
     "name": "stdout",
     "output_type": "stream",
     "text": [
      "<class 'list'>\n"
     ]
    }
   ],
   "source": [
    "print(type(unread_ids))"
   ]
  },
  {
   "cell_type": "code",
   "execution_count": 15,
   "metadata": {},
   "outputs": [],
   "source": [
    "def process_unread_emails(service, unread_ids):\n",
    "    processed_emails = []  # Final list of processed emails\n",
    "    for msg_id in unread_ids:\n",
    "        try:\n",
    "            # Get message by ID\n",
    "            message = service.users().messages().get(userId='me', id=msg_id, format='full').execute()\n",
    "        except Exception as e:\n",
    "            # Skip any errors and continue to the next email\n",
    "            print(f\"Failed to fetch email {msg_id}: {e}\")\n",
    "            continue\n",
    "\n",
    "        # Initialize email info dict\n",
    "        email_info = {\"ID\": msg_id, \"From\": None, \"Subject\": None, \"Date\": None, \"Content\": None}\n",
    "\n",
    "        # Decode email headers\n",
    "        headers = message.get('payload', {}).get('headers', [])\n",
    "        for header in headers:\n",
    "            name = header.get('name')\n",
    "            value = header.get('value', '')\n",
    "            if name == 'From':\n",
    "                email_info[\"From\"] = value\n",
    "            elif name == 'Subject':\n",
    "                email_info[\"Subject\"] = value\n",
    "            elif name == 'Date':\n",
    "                email_info[\"Date\"] = value\n",
    "\n",
    "        # Decode email body\n",
    "        payload = message.get('payload', {})\n",
    "        body_content = \"\"\n",
    "\n",
    "        def _get_part_content(part):\n",
    "            \n",
    "            mime_type = part.get('mimeType')\n",
    "            body = part.get('body', {})\n",
    "            data = body.get('data')\n",
    "            if data:\n",
    "                # Decode base64 data\n",
    "                try:\n",
    "                    text = base64.urlsafe_b64decode(data).decode('utf-8', errors='ignore')\n",
    "                except Exception as e:\n",
    "                    text = \"\"  # Skip any decoding errors\n",
    "                return text\n",
    "            # If no data key, try to get parts recursively\n",
    "            for subpart in part.get('parts', []):\n",
    "                text = _get_part_content(subpart)\n",
    "                if text:\n",
    "                    return text\n",
    "            return \"\"\n",
    "\n",
    "        # Check if the email is multipart\n",
    "        if 'parts' in payload:\n",
    "            # Iterate over parts of the multipart email\n",
    "            for part in payload['parts']:\n",
    "                if part.get('mimeType') == 'text/plain':\n",
    "                    body_content = _get_part_content(part)\n",
    "                    if body_content:\n",
    "                        break\n",
    "            # If plain text part is not found, try to get HTML part\n",
    "            if not body_content:\n",
    "                for part in payload['parts']:\n",
    "                    if part.get('mimeType') == 'text/html':\n",
    "                        body_content = _get_part_content(part)\n",
    "                        if body_content:\n",
    "                            # Remove HTML tags\n",
    "                            body_content = re.sub(r'<[^>]+>', '', body_content)\n",
    "                            break\n",
    "            # If both plain text and HTML parts are not found, get the first part\n",
    "            if not body_content:\n",
    "                for part in payload['parts']:\n",
    "                    body_content = _get_part_content(part)\n",
    "                    if body_content:\n",
    "                        break\n",
    "        else:\n",
    "            # If the email is not multipart, get the email body\n",
    "            body_content = _get_part_content(payload)\n",
    "\n",
    "        # Clean up the email content \n",
    "        if body_content:\n",
    "            body_content = re.sub(r'http\\S+', '', body_content)\n",
    "            body_content = re.sub(r'\\s+', ' ', body_content)\n",
    "            body_content = body_content.strip()\n",
    "\n",
    "        email_info[\"Content\"] = body_content if body_content is not None else \"\"\n",
    "        processed_emails.append(email_info)\n",
    "    return processed_emails\n"
   ]
  },
  {
   "cell_type": "code",
   "execution_count": 17,
   "metadata": {},
   "outputs": [],
   "source": [
    "result = process_unread_emails(service, unread_ids)"
   ]
  },
  {
   "cell_type": "code",
   "execution_count": 18,
   "metadata": {},
   "outputs": [
    {
     "name": "stdout",
     "output_type": "stream",
     "text": [
      "[{'ID': '19548b2158ec5d93', 'From': 'Kaggle <noreply@kaggle.com>', 'Subject': 'Introducing Kaggle Packages: Enhance Your MLOps Skills in the Drawing with LLMs Competition', 'Date': 'Thu, 27 Feb 2025 10:36:24 -0800', 'Content': \"Kaggle Hi Rubiriya, Starting today, you can use a new Kaggle feature that brings real-world MLOps skills into your competition solutions. Kaggle Packages make your specialized AI solutions reusable, a valuable element of production ML engineering. Get ready to level up how you build solutions for Kaggle Competitions, starting with the Drawing with LLMs Competition. This competition challenges you to unleash your inner artist and coding wizard! Given a text prompt describing an image, your task is to generate code that renders it as closely as possible. Your solution must include a reusable model built with Kaggle Packages. Total Prizes: $50,000 Entry Deadline: May 20, 2025 Learn More Your feedback will help shape the future of Kaggle Packages. We're considering better containerization support and integration with Kaggle Models. But first, try it out with this latest competition and let us know what you think. Good luck, Ryan Holbrook Kaggle Data Scientist Kaggle, Inc 1600 Amphitheatre Pkwy Mountain View, CA 94043 This email was sent to radywolf8@gmail.com because you indicated that you'd like to receive news and updates about Kaggle. If you don't want to receive these emails in the future, please unsubscribe here. You can also change your preferences on your account's profile page by logging in at kaggle.com.\"}, {'ID': '195474f449e1f1f9', 'From': 'Kaggle <noreply@kaggle.com>', 'Subject': 'GenAI Intensive Course With Google: Registration Issue Resolved', 'Date': 'Thu, 27 Feb 2025 04:08:51 -0800', 'Content': \"Kaggle Hi Rubiriya, We fixed the registration glitch for the GenAI Intensive Course with Google. You can now snag your spot! Register Here If you have already registered, please feel free to ignore this message. If you encounter any issues while registering, please reach out to us at kaggle-registration@google.com. Thanks for your patience. We look forward to seeing you in a few weeks! The Kaggle Team Kaggle, Inc 1600 Amphitheatre Pkwy Mountain View, CA 94043 This email was sent to radywolf8@gmail.com because you indicated that you'd like to receive news and updates about Kaggle. If you don't want to receive these emails in the future, please unsubscribe here. You can also change your preferences on your account's profile page by logging in at kaggle.com.\"}, {'ID': '195432eff3686e1e', 'From': 'Kaggle <noreply@kaggle.com>', 'Subject': 'Register for our 5-Day Gen AI Intensive Course with Google', 'Date': 'Wed, 26 Feb 2025 08:48:34 -0800', 'Content': \"Kaggle Hi Rubiriya, We are excited to bring back the Gen AI Intensive course with Google on March 31 - April 4 and would love for you to join! Last year's course was a success with over 140,000 participants! This no-cost course, designed by Google ML researchers and engineers, explores key Generative AI technologies through theory, hands-on learning, and community engagement. Conclude this 5-day course with a practical GenAI challenge through a capstone project. Register for the Course Everyday, participants will receive the following in their inbox: 📚 Daily Assignments This includes newly published white papers, a companion podcast (generated by NotebookLM), and companion code labs in AI Studio. 💬 Discord Discussion Threads Kaggle's Discord server will have a dedicated channel for focused discussion on the course. It's an excellent place to find further clarification, connect with other learners and get support from Google experts. 🎥 Daily Livestream Seminars and AMAs We're going live everyday on Kaggle's YouTube channel, where the authors and course contributors will dive deeper into the topics and answer your burning questions. Plus, we've got fun surprises in store to keep the learning engaging. 🎯 Capstone Project Apply your skills in a practical project for a chance to win swag, Kaggle badges, and recognition on Kaggle and Google's social media. For more information, visit the event website here. Hope to see you there! The Kaggle Team Kaggle, Inc 1600 Amphitheatre Pkwy Mountain View, CA 94043 This email was sent to radywolf8@gmail.com because you indicated that you'd like to receive news and updates about Kaggle. If you don't want to receive these emails in the future, please unsubscribe here. You can also change your preferences on your account's profile page by logging in at kaggle.com.\"}, {'ID': '19542cec33f29fa1', 'From': 'Google Maps <google-maps-noreply@google.com>', 'Subject': 'The Andi Apartments 在 Google 上回复了您的评价', 'Date': 'Wed, 26 Feb 2025 07:10:01 -0800', 'Content': \"The Andi Apartments回复了您的评价 感谢您在 Google 上发布评价。 Google 用户 The most unique fire alarm experience you can have in entire Boston!!!! It can be triggered for no reason in midnight when everyone is sleeping. If I live here longer, the jump scare in those horror m... 商家回复 Hi Ethel! We're so sorry you're going through this! If you're having an issue with your smoke detector and have not already, please let us know so we can have maintenance assist you. We have not had a... 查看完整回复 < 谢谢 Google 地图团队敬上 您收到这封电子邮件是因为有商家回复了您的评价。如果您不希望再收到此类邮件，请 点击此处退订 < (c) 2025 Google LLC 1600 Amphitheatre Parkway, Mountain View, CA 94043\"}, {'ID': '195374d51dbed939', 'From': '\"领英\" <messages-noreply@linkedin.com>', 'Subject': '李同学，添加Bora Koyuncuoglu - Vice President Operations', 'Date': 'Mon, 24 Feb 2025 09:32:46 +0000 (UTC)', 'Content': '您认识Bora Koyuncuoglu吗？ 加为好友: 更多您可能认识的会员 武大洲 美国加州大学圣迭戈分校学生 Aidan Roes New York University, Applied Psych Undergrad @ Steinhardt | Tech Entrepreneur | Web Scraping & Data Analysis | Digital Asset Arbitrage | Part-Time AI Enthusiast Amaan Shaghel Data Science Major Currently Attending Berkeley 黎子豪 Tzu-Hao Li Analog IC designer Mingrui Xu MSCS@USC | CS@UCSB | BECS@HUST 查看更多您可能认识的会员: ---------------------------------------- 此邮件发送给李同学 (--) 了解为何邮件内包含此信息: 您已设置接收“猜您认识”通知邮件。 退订: 帮助: © LinkedIn. 邮寄地址: 中国北京市亦庄经济技术开发区地盛北街 1 号 18 号楼 18 层 817 室。 LinkedIn 和 LinkedIn 标志是领英的注册商标。'}, {'ID': '1951a0cffb053199', 'From': 'Google <no-reply@accounts.google.com>', 'Subject': '安全提醒', 'Date': 'Tue, 18 Feb 2025 17:13:33 GMT', 'Content': '[image: Google] 您的账号中添加了一个新的通行密钥 radywolf8@gmail.com 如果您没有添加过通行密钥，则表示可能有人在使用您的账号。请立即检查您的账号并 确保其安全。 查看活动 < 您也可以访问以下网址查看安全性活动： 我们向您发送这封电子邮件，目的是让您了解关于您的 Google 账号和服务的重大变 化。 © 2025 Google LLC, 1600 Amphitheatre Parkway, Mountain View, CA 94043, USA'}]\n",
      "<class 'list'>\n"
     ]
    }
   ],
   "source": [
    "print(result)\n",
    "print(type(result))"
   ]
  },
  {
   "cell_type": "code",
   "execution_count": 26,
   "metadata": {},
   "outputs": [
    {
     "name": "stdout",
     "output_type": "stream",
     "text": [
      "{'ID': '195432eff3686e1e', 'From': 'Kaggle <noreply@kaggle.com>', 'Subject': 'Register for our 5-Day Gen AI Intensive Course with Google', 'Date': 'Wed, 26 Feb 2025 08:48:34 -0800', 'Content': \"Kaggle Hi Rubiriya, We are excited to bring back the Gen AI Intensive course with Google on March 31 - April 4 and would love for you to join! Last year's course was a success with over 140,000 participants! This no-cost course, designed by Google ML researchers and engineers, explores key Generative AI technologies through theory, hands-on learning, and community engagement. Conclude this 5-day course with a practical GenAI challenge through a capstone project. Register for the Course Everyday, participants will receive the following in their inbox: 📚 Daily Assignments This includes newly published white papers, a companion podcast (generated by NotebookLM), and companion code labs in AI Studio. 💬 Discord Discussion Threads Kaggle's Discord server will have a dedicated channel for focused discussion on the course. It's an excellent place to find further clarification, connect with other learners and get support from Google experts. 🎥 Daily Livestream Seminars and AMAs We're going live everyday on Kaggle's YouTube channel, where the authors and course contributors will dive deeper into the topics and answer your burning questions. Plus, we've got fun surprises in store to keep the learning engaging. 🎯 Capstone Project Apply your skills in a practical project for a chance to win swag, Kaggle badges, and recognition on Kaggle and Google's social media. For more information, visit the event website here. Hope to see you there! The Kaggle Team Kaggle, Inc 1600 Amphitheatre Pkwy Mountain View, CA 94043 This email was sent to radywolf8@gmail.com because you indicated that you'd like to receive news and updates about Kaggle. If you don't want to receive these emails in the future, please unsubscribe here. You can also change your preferences on your account's profile page by logging in at kaggle.com.\"}\n",
      "<class 'dict'>\n",
      "Kaggle Hi Rubiriya, We are excited to bring back the Gen AI Intensive course with Google on March 31 - April 4 and would love for you to join! Last year's course was a success with over 140,000 participants! This no-cost course, designed by Google ML researchers and engineers, explores key Generative AI technologies through theory, hands-on learning, and community engagement. Conclude this 5-day course with a practical GenAI challenge through a capstone project. Register for the Course Everyday, participants will receive the following in their inbox: 📚 Daily Assignments This includes newly published white papers, a companion podcast (generated by NotebookLM), and companion code labs in AI Studio. 💬 Discord Discussion Threads Kaggle's Discord server will have a dedicated channel for focused discussion on the course. It's an excellent place to find further clarification, connect with other learners and get support from Google experts. 🎥 Daily Livestream Seminars and AMAs We're going live everyday on Kaggle's YouTube channel, where the authors and course contributors will dive deeper into the topics and answer your burning questions. Plus, we've got fun surprises in store to keep the learning engaging. 🎯 Capstone Project Apply your skills in a practical project for a chance to win swag, Kaggle badges, and recognition on Kaggle and Google's social media. For more information, visit the event website here. Hope to see you there! The Kaggle Team Kaggle, Inc 1600 Amphitheatre Pkwy Mountain View, CA 94043 This email was sent to radywolf8@gmail.com because you indicated that you'd like to receive news and updates about Kaggle. If you don't want to receive these emails in the future, please unsubscribe here. You can also change your preferences on your account's profile page by logging in at kaggle.com.\n"
     ]
    }
   ],
   "source": [
    "print(result[2])\n",
    "print(type(result[2]))\n",
    "print(result[2]['Content'])"
   ]
  },
  {
   "cell_type": "code",
   "execution_count": 37,
   "metadata": {},
   "outputs": [],
   "source": [
    "def generate_summary(email_msg):\n",
    "    prompt = f\"You are a Email Digest Agent which can accurately grasp the content of an email by analyzing the sender's address, subject, and body, and generate insightful email summaries within 50 words.So consider the requirement and generate the summary of this email:It is from {email_msg['From']}, the subject is {email_msg['Subject']}, date is {email_msg['Date']}, and the eamil body is {email_msg['Content']}.The summary should include the main points and be concise.The summary should directly tell the user what they need to know, what to pay attention to, or what actions to take.\"\n",
    "    \n",
    "    completion = client.chat.completions.create(\n",
    "        model=\"gpt-4o-mini\",\n",
    "        messages=[{\"role\": \"user\", \"content\": prompt}],\n",
    "        store=True\n",
    "    )\n",
    "    # Extract the summary from the response\n",
    "    summary = completion.choices[0].message\n",
    "    return summary.content"
   ]
  },
  {
   "cell_type": "code",
   "execution_count": null,
   "metadata": {},
   "outputs": [],
   "source": [
    "for email in result:\n",
    "    summary = generate_summary(email)\n",
    "    print(summary)"
   ]
  },
  {
   "cell_type": "code",
   "execution_count": 41,
   "metadata": {},
   "outputs": [],
   "source": [
    "def classify_email(summary):\n",
    "    system_message = (\n",
    "        \"You are an email classifier. You will be provided with the content of an email. \"\n",
    "        \"Your task is to classify the email into one of the following categories: \"\n",
    "        \"Receipt, Promotion, Ads, Notice, Career Development, Education, News. \"\n",
    "        \"Respond with only the single category name and no other text.\"\n",
    "    )\n",
    "\n",
    "    user_message = f\"Email content:\\n{summary}\\nCategory?\"\n",
    "\n",
    "    response = client.chat.completions.create(\n",
    "        model=\"gpt-4-turbo\", \n",
    "        messages=[\n",
    "            {\"role\": \"system\", \"content\": system_message},\n",
    "            {\"role\": \"user\", \"content\": user_message}\n",
    "        ],\n",
    "        temperature=0\n",
    "    )\n",
    "\n",
    "    \n",
    "    category = response.choices[0].message.content\n",
    "    allowed_categories = [\"Receipt\", \"Promotion\", \"Ads\", \"Notice\", \"Career Development\", \"Education\", \"News\"]\n",
    "    if category not in allowed_categories:\n",
    "        return \"Uncategorized\"\n",
    "    return category"
   ]
  },
  {
   "cell_type": "code",
   "execution_count": 38,
   "metadata": {},
   "outputs": [],
   "source": [
    "summary_test = generate_summary(result[2])"
   ]
  },
  {
   "cell_type": "code",
   "execution_count": 39,
   "metadata": {},
   "outputs": [
    {
     "name": "stdout",
     "output_type": "stream",
     "text": [
      "Kaggle invites you to register for the free 5-Day Gen AI Intensive Course with Google from March 31 - April 4. The course includes daily assignments, livestream seminars, and a capstone project. Don't miss the opportunity to engage with experts and win prizes. Register now!\n"
     ]
    }
   ],
   "source": [
    "print(summary_test)"
   ]
  },
  {
   "cell_type": "code",
   "execution_count": 42,
   "metadata": {},
   "outputs": [
    {
     "name": "stdout",
     "output_type": "stream",
     "text": [
      "Education\n"
     ]
    }
   ],
   "source": [
    "print(classify_email(summary_test))"
   ]
  }
 ],
 "metadata": {
  "kernelspec": {
   "display_name": "base",
   "language": "python",
   "name": "python3"
  },
  "language_info": {
   "codemirror_mode": {
    "name": "ipython",
    "version": 3
   },
   "file_extension": ".py",
   "mimetype": "text/x-python",
   "name": "python",
   "nbconvert_exporter": "python",
   "pygments_lexer": "ipython3",
   "version": "3.12.4"
  }
 },
 "nbformat": 4,
 "nbformat_minor": 2
}
